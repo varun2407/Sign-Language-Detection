{
 "cells": [
  {
   "cell_type": "code",
   "execution_count": 1,
   "metadata": {},
   "outputs": [],
   "source": [
    "import cv2 #real time applications\n",
    "import os #helps with files\n",
    "import time #break between images\n",
    "import uuid #name image files"
   ]
  },
  {
   "cell_type": "code",
   "execution_count": 2,
   "metadata": {},
   "outputs": [],
   "source": [
    "IMAGES_PATH = 'Tensorflow/workspace/images/collectedimages'"
   ]
  },
  {
   "cell_type": "code",
   "execution_count": 3,
   "metadata": {},
   "outputs": [],
   "source": [
    "labels = ['hello', 'thanks', 'yes', 'no', 'iloveyou']\n",
    "number_imgs = 5 #13-training, 2-testing"
   ]
  },
  {
   "cell_type": "code",
   "execution_count": 4,
   "metadata": {},
   "outputs": [
    {
     "name": "stdout",
     "output_type": "stream",
     "text": [
      "mkdir: Tensorflow/workspace/images/collectedimages/hello: File exists\n",
      "Collecting images for hello\n",
      "attempt no:0\n",
      "attempt no:1\n",
      "attempt no:2\n",
      "attempt no:3\n",
      "attempt no:4\n",
      "mkdir: Tensorflow/workspace/images/collectedimages/thanks: File exists\n",
      "Collecting images for thanks\n",
      "attempt no:0\n",
      "attempt no:1\n",
      "attempt no:2\n",
      "attempt no:3\n",
      "attempt no:4\n",
      "Collecting images for yes\n",
      "attempt no:0\n",
      "attempt no:1\n",
      "attempt no:2\n",
      "attempt no:3\n",
      "attempt no:4\n",
      "Collecting images for no\n",
      "attempt no:0\n",
      "attempt no:1\n",
      "attempt no:2\n",
      "attempt no:3\n",
      "attempt no:4\n",
      "Collecting images for iloveyou\n",
      "attempt no:0\n",
      "attempt no:1\n",
      "attempt no:2\n",
      "attempt no:3\n",
      "attempt no:4\n"
     ]
    }
   ],
   "source": [
    "for label in labels:\n",
    "    #Create directory for each label\n",
    "    !mkdir {IMAGES_PATH + '/' +label}\n",
    "    cap = cv2.VideoCapture(0) #Initialise Web cam\n",
    "    print('Collecting images for {}'.format(label))\n",
    "    time.sleep(8)\n",
    "    #Loop through number of required images ie. 15\n",
    "    for imgnum in range(number_imgs):\n",
    "        print('attempt no:' + str(imgnum))\n",
    "        ret, frame = cap.read()\n",
    "        imgname = os.path.join(IMAGES_PATH, label, str(imgnum) + '-' + label + '.jpg')\n",
    "        cv2.imwrite(imgname, frame) #imwrite writes image to the directory\n",
    "        cv2.imshow('frame', frame) #imshow displays image\n",
    "        time.sleep(2)\n",
    "        \n",
    "        if cv2.waitKey(1) & 0xFF == ord('q'):\n",
    "            break\n",
    "    cap.release()\n",
    "        "
   ]
  },
  {
   "cell_type": "code",
   "execution_count": null,
   "metadata": {},
   "outputs": [],
   "source": []
  },
  {
   "cell_type": "code",
   "execution_count": null,
   "metadata": {},
   "outputs": [],
   "source": []
  }
 ],
 "metadata": {
  "kernelspec": {
   "display_name": "Python 3",
   "language": "python",
   "name": "python3"
  },
  "language_info": {
   "codemirror_mode": {
    "name": "ipython",
    "version": 3
   },
   "file_extension": ".py",
   "mimetype": "text/x-python",
   "name": "python",
   "nbconvert_exporter": "python",
   "pygments_lexer": "ipython3",
   "version": "3.8.5"
  }
 },
 "nbformat": 4,
 "nbformat_minor": 4
}
